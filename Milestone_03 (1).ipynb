{
 "cells": [
  {
   "cell_type": "code",
   "execution_count": 0,
   "metadata": {
    "application/vnd.databricks.v1+cell": {
     "cellMetadata": {},
     "inputWidgets": {},
     "nuid": "aa1e644b-7e29-4a8d-bfca-1470680ba40f",
     "showTitle": false,
     "title": ""
    }
   },
   "outputs": [
    {
     "output_type": "stream",
     "name": "stdout",
     "output_type": "stream",
     "text": [
      "importing Jupyter notebook from week1_data_analysis.ipynb\n"
     ]
    }
   ],
   "source": [
    "import pandas as pd\n",
    "import matplotlib.pyplot as plt\n",
    "from pandasql import sqldf\n",
    "pysqldf = lambda q: sqldf(q, globals())\n",
    "\n",
    "import import_ipynb\n",
    "from week1_data_analysis import summer_events, winter_events"
   ]
  },
  {
   "cell_type": "markdown",
   "metadata": {
    "application/vnd.databricks.v1+cell": {
     "cellMetadata": {},
     "inputWidgets": {},
     "nuid": "a0c6e0c8-dea5-4cb0-9f51-7cf62cd642cf",
     "showTitle": false,
     "title": ""
    }
   },
   "source": [
    "## Más allá de las estadísticas descriptivas"
   ]
  },
  {
   "cell_type": "code",
   "execution_count": 0,
   "metadata": {
    "application/vnd.databricks.v1+cell": {
     "cellMetadata": {},
     "inputWidgets": {},
     "nuid": "26497855-5307-4e18-98d7-f540ec92ad3a",
     "showTitle": false,
     "title": ""
    }
   },
   "outputs": [],
   "source": [
    "#Summer Olympics:\n",
    "summer_medal_count = pysqldf('''\n",
    "                         SELECT\n",
    "                             Year,\n",
    "                             COUNT(*) AS total_count,\n",
    "                             SUM(CASE\n",
    "                                   WHEN Medal IS NOT NULL THEN 1 ELSE 0\n",
    "                                 END) AS medal_count,\n",
    "                             SUM(CASE\n",
    "                                   WHEN Medal = \"Gold\" THEN 1 ELSE 0\n",
    "                                 END) AS gold_count,\n",
    "                             SUM(CASE\n",
    "                                   WHEN Medal = \"Silver\" THEN 1 ELSE 0\n",
    "                                 END) AS silver_count,\n",
    "                             SUM(CASE\n",
    "                                   WHEN Medal = \"Bronze\" THEN 1 ELSE 0\n",
    "                                 END) AS bronze_count\n",
    "                             FROM\n",
    "                               summer_events\n",
    "                             GROUP BY\n",
    "                               Year \n",
    "                                   ''')"
   ]
  },
  {
   "cell_type": "code",
   "execution_count": 0,
   "metadata": {
    "application/vnd.databricks.v1+cell": {
     "cellMetadata": {},
     "inputWidgets": {},
     "nuid": "01fc109e-1f7b-48e4-9989-2dfc732fa19f",
     "showTitle": false,
     "title": ""
    }
   },
   "outputs": [],
   "source": [
    "#Winter Olympics:\n",
    "winter_medal_count = pysqldf('''\n",
    "                         SELECT\n",
    "                             Year,\n",
    "                             COUNT(*) AS total_count,\n",
    "                             SUM(CASE\n",
    "                                   WHEN Medal IS NOT NULL THEN 1 ELSE 0\n",
    "                                 END) AS medal_count,\n",
    "                             SUM(CASE\n",
    "                                   WHEN Medal = \"Gold\" THEN 1 ELSE 0\n",
    "                                 END) AS gold_count,\n",
    "                             SUM(CASE\n",
    "                                   WHEN Medal = \"Silver\" THEN 1 ELSE 0\n",
    "                                 END) AS silver_count,\n",
    "                             SUM(CASE\n",
    "                                   WHEN Medal = \"Bronze\" THEN 1 ELSE 0\n",
    "                                 END) AS bronze_count\n",
    "                             FROM\n",
    "                               winter_events\n",
    "                             GROUP BY\n",
    "                               Year \n",
    "                                   ''')"
   ]
  },
  {
   "cell_type": "markdown",
   "metadata": {
    "application/vnd.databricks.v1+cell": {
     "cellMetadata": {},
     "inputWidgets": {},
     "nuid": "d35c8601-0581-4f55-8046-8ebd1b176718",
     "showTitle": false,
     "title": ""
    }
   },
   "source": [
    "Acabo de crear dos tablas para contar el número total de medallas en los Juegos Olímpicos de invierno y verano. Calcularé el coeficiente de correlación de Pearson entre el número total de medallas en los Juegos Olímpicos de invierno y de verano."
   ]
  },
  {
   "cell_type": "code",
   "execution_count": 0,
   "metadata": {
    "application/vnd.databricks.v1+cell": {
     "cellMetadata": {},
     "inputWidgets": {},
     "nuid": "c3a23328-fefa-46b4-9579-558eb6f0fbd0",
     "showTitle": false,
     "title": ""
    }
   },
   "outputs": [
    {
     "output_type": "stream",
     "name": "stdout",
     "output_type": "stream",
     "text": [
      "   Year  total_count  medal_count  gold_count  silver_count  bronze_count\n0  1896          380          143          62            43            38\n1  1900         1936          604         201           228           175\n2  1904         1301          486         173           163           150\n3  1906         1733          458         157           156           145\n4  1908         3101          831         294           281           256\n"
     ]
    }
   ],
   "source": [
    "print(summer_medal_count.head())\n"
   ]
  },
  {
   "cell_type": "code",
   "execution_count": 0,
   "metadata": {
    "application/vnd.databricks.v1+cell": {
     "cellMetadata": {},
     "inputWidgets": {},
     "nuid": "c0bb73c9-4b37-4ec3-a1de-b141f17a8c74",
     "showTitle": false,
     "title": ""
    }
   },
   "outputs": [
    {
     "output_type": "stream",
     "name": "stdout",
     "output_type": "stream",
     "text": [
      "   Year  total_count  medal_count  gold_count  silver_count  bronze_count\n0  1924          460          130          55            38            37\n1  1928          582           89          30            28            31\n2  1932          352           92          32            32            28\n3  1936          895          108          36            37            35\n4  1948         1075          135          41            48            46\n"
     ]
    }
   ],
   "source": [
    "print(winter_medal_count.head())"
   ]
  },
  {
   "cell_type": "code",
   "execution_count": 0,
   "metadata": {
    "application/vnd.databricks.v1+cell": {
     "cellMetadata": {},
     "inputWidgets": {},
     "nuid": "943bb6c6-31e7-4c28-8095-c3e95a3bd51d",
     "showTitle": false,
     "title": ""
    }
   },
   "outputs": [
    {
     "output_type": "stream",
     "name": "stdout",
     "output_type": "stream",
     "text": [
      "    Year  total_count  medal_count  gold_count  silver_count  bronze_count\n0   1896          380          143          62            43            38\n1   1900         1936          604         201           228           175\n2   1904         1301          486         173           163           150\n3   1906         1733          458         157           156           145\n4   1908         3101          831         294           281           256\n5   1912         4040          941         326           315           300\n6   1920         4292         1308         493           448           367\n7   1924         5233          832         277           281           274\n8   1928         4992          734         245           239           250\n9   1932         2969          647         229           214           204\n10  1936         6506          917         312           310           295\n11  1948         6405          852         289           284           279\n12  1952         8270          897         306           291           300\n13  1956         5127          893         302           293           298\n14  1960         8119          911         309           294           308\n15  1964         7702         1029         347           339           343\n16  1968         8588         1057         359           340           358\n17  1972        10304         1215         404           392           419\n18  1976         8641         1320         438           434           448\n19  1980         7191         1384         457           458           469\n20  1984         9454         1476         497           477           502\n21  1988        12037         1582         520           513           549\n22  1992        12977         1712         559           549           604\n23  1996        13780         1842         608           605           629\n24  2000        13821         2004         663           661           680\n25  2004        13443         2001         664           660           677\n26  2008        13602         2048         671           667           710\n27  2012        12920         1941         632           630           679\n28  2016        13688         2023         665           655           703\n"
     ]
    }
   ],
   "source": [
    "print(summer_medal_count)"
   ]
  },
  {
   "cell_type": "markdown",
   "metadata": {
    "application/vnd.databricks.v1+cell": {
     "cellMetadata": {},
     "inputWidgets": {},
     "nuid": "cf4595d9-f78e-468e-93b5-99c6ac06970e",
     "showTitle": false,
     "title": ""
    }
   },
   "source": [
    "The length of the array of the number of medal count in the winter Olympics and summer Olympics are different because Winter olympics started in 1924, but Summer olympics started in 1896. Therefore I have to create a new shortened table of the summer olympics started in 1924 to match the length of the winter olympics."
   ]
  },
  {
   "cell_type": "code",
   "execution_count": 0,
   "metadata": {
    "application/vnd.databricks.v1+cell": {
     "cellMetadata": {},
     "inputWidgets": {},
     "nuid": "962eeef0-938d-415e-b281-77cde2c99ae5",
     "showTitle": false,
     "title": ""
    }
   },
   "outputs": [],
   "source": [
    "summer_medal_count_new = summer_medal_count[7:]"
   ]
  },
  {
   "cell_type": "code",
   "execution_count": 0,
   "metadata": {
    "application/vnd.databricks.v1+cell": {
     "cellMetadata": {},
     "inputWidgets": {},
     "nuid": "bb339b7c-2459-4ba3-a789-8298d8dcb76d",
     "showTitle": false,
     "title": ""
    }
   },
   "outputs": [
    {
     "output_type": "stream",
     "name": "stdout",
     "output_type": "stream",
     "text": [
      "    Year  total_count  medal_count  gold_count  silver_count  bronze_count\n7   1924         5233          832         277           281           274\n8   1928         4992          734         245           239           250\n9   1932         2969          647         229           214           204\n10  1936         6506          917         312           310           295\n11  1948         6405          852         289           284           279\n12  1952         8270          897         306           291           300\n13  1956         5127          893         302           293           298\n14  1960         8119          911         309           294           308\n15  1964         7702         1029         347           339           343\n16  1968         8588         1057         359           340           358\n17  1972        10304         1215         404           392           419\n18  1976         8641         1320         438           434           448\n19  1980         7191         1384         457           458           469\n20  1984         9454         1476         497           477           502\n21  1988        12037         1582         520           513           549\n22  1992        12977         1712         559           549           604\n23  1996        13780         1842         608           605           629\n24  2000        13821         2004         663           661           680\n25  2004        13443         2001         664           660           677\n26  2008        13602         2048         671           667           710\n27  2012        12920         1941         632           630           679\n28  2016        13688         2023         665           655           703\n"
     ]
    }
   ],
   "source": [
    "print(summer_medal_count_new)"
   ]
  },
  {
   "cell_type": "markdown",
   "metadata": {
    "application/vnd.databricks.v1+cell": {
     "cellMetadata": {},
     "inputWidgets": {},
     "nuid": "8fee1dcc-cf99-4a8b-a608-9d842e57f3c9",
     "showTitle": false,
     "title": ""
    }
   },
   "source": [
    "Luego calculo el coeficiente de correlación de Pearson entre el número total de medallas en los Juegos Olímpicos de invierno y verano desde 1924 hasta 2016."
   ]
  },
  {
   "cell_type": "code",
   "execution_count": 0,
   "metadata": {
    "application/vnd.databricks.v1+cell": {
     "cellMetadata": {},
     "inputWidgets": {},
     "nuid": "54fec26d-1952-4dce-a4c8-ad55c49e9976",
     "showTitle": false,
     "title": ""
    }
   },
   "outputs": [],
   "source": [
    "import numpy as np"
   ]
  },
  {
   "cell_type": "code",
   "execution_count": 0,
   "metadata": {
    "application/vnd.databricks.v1+cell": {
     "cellMetadata": {},
     "inputWidgets": {},
     "nuid": "7a238d64-e4a6-4290-ad88-32c8495e59a3",
     "showTitle": false,
     "title": ""
    }
   },
   "outputs": [],
   "source": [
    "x_simple = winter_medal_count.medal_count\n",
    "y_simple = summer_medal_count_new.medal_count\n",
    "my_rho = np.corrcoef(x_simple, y_simple)"
   ]
  },
  {
   "cell_type": "code",
   "execution_count": 0,
   "metadata": {
    "application/vnd.databricks.v1+cell": {
     "cellMetadata": {},
     "inputWidgets": {},
     "nuid": "73a6f0bd-cd3e-43da-b72d-d2482f08fc7f",
     "showTitle": false,
     "title": ""
    }
   },
   "outputs": [
    {
     "output_type": "stream",
     "name": "stdout",
     "output_type": "stream",
     "text": [
      "[[1.         0.94141801]\n [0.94141801 1.        ]]\n"
     ]
    }
   ],
   "source": [
    "print(my_rho)"
   ]
  },
  {
   "cell_type": "markdown",
   "metadata": {
    "application/vnd.databricks.v1+cell": {
     "cellMetadata": {},
     "inputWidgets": {},
     "nuid": "2a8b0662-8bec-4092-8c00-8262e9db7e0c",
     "showTitle": false,
     "title": ""
    }
   },
   "source": [
    "El coeficiente de correlación de Pearson entre el número total de medallas en los Juegos Olímpicos de invierno y verano de 1924 a 2016 es de 0,94, lo que es muy positivo. Por lo tanto, el desempeño de un país en los Juegos Olímpicos de invierno está altamente correlacionado con el de los Juegos Olímpicos de verano."
   ]
  },
  {
   "cell_type": "markdown",
   "metadata": {
    "application/vnd.databricks.v1+cell": {
     "cellMetadata": {},
     "inputWidgets": {},
     "nuid": "ba29135c-4b02-4dab-a8fe-7fc2eefdd42a",
     "showTitle": false,
     "title": ""
    }
   },
   "source": [
    "Luego calcularé la desviación estándar del desempeño del país a lo largo de los años. Será útil una comparación entre el estándar promedio de invierno y el de los Juegos Olímpicos de verano."
   ]
  },
  {
   "cell_type": "code",
   "execution_count": 0,
   "metadata": {
    "application/vnd.databricks.v1+cell": {
     "cellMetadata": {},
     "inputWidgets": {},
     "nuid": "d907263f-13ad-407c-a95f-5d7f2c24ac45",
     "showTitle": false,
     "title": ""
    }
   },
   "outputs": [],
   "source": [
    "std_medal_count_summer_olympics = np.std(y_simple)\n",
    "std_medal_count_winter_olympics = np.std(x_simple)\n"
   ]
  },
  {
   "cell_type": "code",
   "execution_count": 0,
   "metadata": {
    "application/vnd.databricks.v1+cell": {
     "cellMetadata": {},
     "inputWidgets": {},
     "nuid": "13538185-cdc9-4faf-849a-74b05bdc5633",
     "showTitle": false,
     "title": ""
    }
   },
   "outputs": [
    {
     "output_type": "stream",
     "name": "stdout",
     "output_type": "stream",
     "text": [
      "std_medal_count_summer_olympics = 475.323015441357\nstd_medal_count_winter_olympics = 152.56899942903493\n"
     ]
    }
   ],
   "source": [
    "print(\"std_medal_count_summer_olympics =\",std_medal_count_summer_olympics)\n",
    "print(\"std_medal_count_winter_olympics =\",std_medal_count_winter_olympics)"
   ]
  },
  {
   "cell_type": "markdown",
   "metadata": {
    "application/vnd.databricks.v1+cell": {
     "cellMetadata": {},
     "inputWidgets": {},
     "nuid": "46f51fe1-7fa9-4189-ad06-0d7c680f7c18",
     "showTitle": false,
     "title": ""
    }
   },
   "source": [
    "De 1924 a 2016, como la desviación estándar en los Juegos Olímpicos de verano es aproximadamente 3 veces mayor que en los Juegos Olímpicos de invierno, el desempeño de los países por año cambia más en los Juegos Olímpicos de verano."
   ]
  },
  {
   "cell_type": "code",
   "execution_count": 0,
   "metadata": {
    "application/vnd.databricks.v1+cell": {
     "cellMetadata": {},
     "inputWidgets": {},
     "nuid": "1674fe90-5df7-4d29-a738-fea93c9392a2",
     "showTitle": false,
     "title": ""
    }
   },
   "outputs": [],
   "source": []
  }
 ],
 "metadata": {
  "application/vnd.databricks.v1+notebook": {
   "dashboards": [],
   "environmentMetadata": null,
   "language": "python",
   "notebookMetadata": {
    "pythonIndentUnit": 4
   },
   "notebookName": "Milestone_03",
   "widgets": {}
  },
  "kernelspec": {
   "display_name": "Python 3",
   "language": "python",
   "name": "python3"
  },
  "language_info": {
   "codemirror_mode": {
    "name": "ipython",
    "version": 3
   },
   "file_extension": ".py",
   "mimetype": "text/x-python",
   "name": "python",
   "nbconvert_exporter": "python",
   "pygments_lexer": "ipython3",
   "version": "3.7.7"
  }
 },
 "nbformat": 4,
 "nbformat_minor": 0
}
